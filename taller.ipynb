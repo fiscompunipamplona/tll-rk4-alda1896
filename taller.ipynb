{
 "cells": [
  {
   "cell_type": "markdown",
   "metadata": {},
   "source": [
    "**Calcular es alcanza máximo para lanzamiento parabólico con parámetros iniciales:**\n",
    "\n",
    "\\begin{equation}\n",
    "v_{0}=15 [m/s]\\\\\n",
    "\\theta_{0}=45^o\\\\\n",
    "x_{0}=y_{0}=0\n",
    "\\end{equation}\n",
    "\n",
    "**El alcance máximo teórico puede ser calculado con la siguiente expresión:**\n",
    "\\begin{equation}\n",
    " X_{max}=\\frac{V_{0}^{2}sen\\left ( 2\\theta  \\right )}{g}\n",
    "\\end{equation}\n",
    "\n",
    "\\begin{equation}\n",
    " X_{max}=\\frac{15^{2}sen\\left ( 90^{^{o}}  \\right )}{2\\left ( 9.8 \\right )}=22.9591[m]\n",
    "\\end{equation}"
   ]
  },
  {
   "cell_type": "code",
   "execution_count": 1,
   "metadata": {},
   "outputs": [],
   "source": [
    "from math import sin,cos, pi, sqrt\n",
    "from numpy import arange\n",
    "from pylab import plot,xlabel,ylabel,show,xlim,ylim,legend,grid"
   ]
  },
  {
   "cell_type": "code",
   "execution_count": 2,
   "metadata": {},
   "outputs": [],
   "source": [
    "def ace(x,t):\n",
    "    g=9.8 #m/s\n",
    "    return -g"
   ]
  },
  {
   "cell_type": "code",
   "execution_count": 3,
   "metadata": {},
   "outputs": [],
   "source": [
    "a = 0.0    #inicio del intervalo\n",
    "b = 3.0   #final del intervalo\n",
    "N = 300  # numero de pasos\n",
    "h = (b-a)/N # tamaño de un paso\n",
    " \n",
    "# Euler\n",
    "tpoints = arange(a,b,h)\n",
    "Vpoints= []\n",
    "Xpoints= []\n",
    "Ypoints= []\n",
    "\n",
    "the=(45*pi)/180\n",
    "V0=15 #m/s\n",
    "Vx=V0*cos(the)   \n",
    "Vy=V0*sin(the)   \n",
    "y=0\n",
    "x=0\n",
    "\n",
    "for t in tpoints:\n",
    "    v =sqrt(Vx*Vx+Vy*Vy)\n",
    "    Vpoints.append(v)\n",
    "    Ypoints.append(y)\n",
    "    Xpoints.append(x)\n",
    "    Vy +=h*ace(x,t) \n",
    "    y +=h*Vy\n",
    "    x +=h*Vx\n",
    "     "
   ]
  },
  {
   "cell_type": "code",
   "execution_count": 40,
   "metadata": {},
   "outputs": [
    {
     "name": "stdout",
     "output_type": "stream",
     "text": [
      "Xmax= 23.33452377915615\n",
      "Error= 1.6356277675689295 %\n"
     ]
    }
   ],
   "source": [
    "for i in range (len(Ypoints)):\n",
    "    if -0.5 < Ypoints[i] < 0.55 :\n",
    "        pos=i\n",
    "Xmax=Xpoints[pos]\n",
    "print('Xmax=',Xmax)\n",
    "\n",
    "Err=abs((Xmax-22.959)/22.959)\n",
    "print('Error=',Err*100,'%')"
   ]
  },
  {
   "cell_type": "code",
   "execution_count": 45,
   "metadata": {},
   "outputs": [
    {
     "data": {
      "image/png": "[encoded data removed]",
      "text/plain": [
       "<Figure size 432x288 with 1 Axes>"
      ]
     },
     "metadata": {
      "needs_background": "light"
     },
     "output_type": "display_data"
    }
   ],
   "source": [
    "plot (Xpoints,Ypoints, label='Y vs x')\n",
    "plot (Xpoints[220],Ypoints[220],'o')\n",
    "legend()\n",
    "xlim(0,24)\n",
    "ylim(-1,6)\n",
    "xlabel(\"x\")\n",
    "ylabel(\"y\")\n",
    "grid()\n",
    "show()"
   ]
  },
  {
   "cell_type": "code",
   "execution_count": 6,
   "metadata": {},
   "outputs": [],
   "source": [
    "#Runge-kutta\n",
    "\n",
    "a = 0.0    #inicio del intervalo\n",
    "b = 10.0   #final del intervalo\n",
    "N = 300  # numero de pasos\n",
    "h = (b-a)/N # tamaño de un paso\n",
    "\n",
    "V= []\n",
    "X= []\n",
    "Y= []\n",
    "\n",
    "the=(45*pi)/180\n",
    "V0=15 #m/s\n",
    "Vx=V0*cos(the)   \n",
    "Vy=V0*sin(the)   \n",
    "y=0\n",
    "x=0\n",
    "\n",
    "for t in tpoints:\n",
    "    v =sqrt(Vx*Vx+Vy*Vy)\n",
    "    V.append(v)\n",
    "    Y.append(y)\n",
    "    X.append(x)\n",
    "    \n",
    "    k1v =h*ace(x,t)\n",
    "    k2v =h*ace(x+0.5*h,t+0.5*k1v)\n",
    "    k3v =h*ace(x+0.5*h,t+0.5*k2v)\n",
    "    k4v =h*ace(x+h,t+k3v)\n",
    "    Vy +=(1/6)*(k1v+2*k2v+2*k3v+k4v)\n",
    "    \n",
    "    y +=h*Vy\n",
    "    x +=h*Vx"
   ]
  },
  {
   "cell_type": "code",
   "execution_count": 33,
   "metadata": {},
   "outputs": [
    {
     "name": "stdout",
     "output_type": "stream",
     "text": [
      "Xmax= 22.98097038856277\n",
      "Error= 0.09569401351439911 %\n"
     ]
    }
   ],
   "source": [
    "for i in range (len(Y)):\n",
    "    if -0.5 < Y[i] < 0.5 :\n",
    "        pos=i\n",
    "Xmax2=X[pos]\n",
    "print('Xmax=',Xmax2)\n",
    "\n",
    "Err2=abs((Xmax2-22.959)/22.959)\n",
    "\n",
    "print('Error=',Err2*100,'%')"
   ]
  },
  {
   "cell_type": "code",
   "execution_count": 46,
   "metadata": {},
   "outputs": [
    {
     "data": {
      "image/png": "[encoded data removed]",
      "text/plain": [
       "<Figure size 432x288 with 1 Axes>"
      ]
     },
     "metadata": {
      "needs_background": "light"
     },
     "output_type": "display_data"
    }
   ],
   "source": [
    "plot (X,Y, label='Y vs x')\n",
    "plot (X[64],Y[64],'o')\n",
    "legend()\n",
    "xlim(-1,24)\n",
    "ylim(-1,6)\n",
    "xlabel(\"x\")\n",
    "ylabel(\"y\")\n",
    "grid()\n",
    "show()"
   ]
  },
  {
   "cell_type": "markdown",
   "metadata": {},
   "source": [
    "**Es posible observar que el método de Runge-Kutta de cuarto orden da resultados con un error menor que los arrojados por el método de Euler usando el mismo número de pasos en ambos métodos**"
   ]
  },
  {
   "cell_type": "code",
   "execution_count": null,
   "metadata": {},
   "outputs": [],
   "source": []
  }
 ],
 "metadata": {
  "kernelspec": {
   "display_name": "Python 3",
   "language": "python",
   "name": "python3"
  },
  "language_info": {
   "codemirror_mode": {
    "name": "ipython",
    "version": 3
   },
   "file_extension": ".py",
   "mimetype": "text/x-python",
   "name": "python",
   "nbconvert_exporter": "python",
   "pygments_lexer": "ipython3",
   "version": "3.5.2"
  }
 },
 "nbformat": 4,
 "nbformat_minor": 2
}
